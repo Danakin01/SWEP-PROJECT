{
 "cells": [
  {
   "cell_type": "markdown",
   "id": "734481a5",
   "metadata": {},
   "source": [
    "# Name: DANIEL AKINWANDE GEORGE\n",
    "# Matric No: EES/20/21/0110\n",
    "# Coursecode: FEG390 (SWEP)\n",
    "# Level: 300L\n",
    "\n",
    "## Project: Making Prediction of house price using the following maching learning models based on the data available in the Aemf1.csv dataset:\n",
    "#### 1. LinearRegression\n",
    "#### 2. RandomForestRegressor\n",
    "#### 3. DecisionTreeRegressor\n",
    "\n",
    "## Also, check for the following evaluation metrics\n",
    "#### - RMSE\n",
    "#### - MAE\n",
    "#### - MSE\n",
    "#### - Accuracy (R2)\n",
    "\n"
   ]
  },
  {
   "cell_type": "markdown",
   "id": "f8fb8612",
   "metadata": {},
   "source": [
    "### Library used in this Project\n",
    "###### Imported library is pandas under the alias pd.\n"
   ]
  },
  {
   "cell_type": "code",
   "execution_count": 1,
   "id": "b6a6c5c0",
   "metadata": {},
   "outputs": [],
   "source": [
    "import pandas as pd\n"
   ]
  },
  {
   "cell_type": "markdown",
   "id": "7054e380",
   "metadata": {},
   "source": [
    "###### Imported Library for LinearRegression Model"
   ]
  },
  {
   "cell_type": "code",
   "execution_count": 2,
   "id": "927dcfac",
   "metadata": {},
   "outputs": [],
   "source": [
    "from sklearn.linear_model import LinearRegression"
   ]
  },
  {
   "cell_type": "markdown",
   "id": "f791edc9",
   "metadata": {},
   "source": [
    "###### Imported Library for RandomForestRegression Model"
   ]
  },
  {
   "cell_type": "code",
   "execution_count": 3,
   "id": "4da22270",
   "metadata": {},
   "outputs": [],
   "source": [
    "from sklearn.ensemble import RandomForestRegressor"
   ]
  },
  {
   "cell_type": "markdown",
   "id": "1a62e8b2",
   "metadata": {},
   "source": [
    "###### Imported Library for DecisionTreeRegression Model"
   ]
  },
  {
   "cell_type": "code",
   "execution_count": 4,
   "id": "b325b58e",
   "metadata": {},
   "outputs": [],
   "source": [
    "from sklearn.tree import DecisionTreeRegressor"
   ]
  },
  {
   "cell_type": "markdown",
   "id": "0d2f553d",
   "metadata": {},
   "source": [
    "###### Imported Library for Metrics"
   ]
  },
  {
   "cell_type": "code",
   "execution_count": 5,
   "id": "145fbe8f",
   "metadata": {},
   "outputs": [],
   "source": [
    "from sklearn.metrics import  mean_squared_error, mean_absolute_error, r2_score\n",
    "import sklearn.metrics as sm"
   ]
  },
  {
   "cell_type": "markdown",
   "id": "45a0a400",
   "metadata": {},
   "source": [
    "###### Imported Library for Data Visualization"
   ]
  },
  {
   "cell_type": "code",
   "execution_count": 6,
   "id": "48ff216e",
   "metadata": {},
   "outputs": [],
   "source": [
    "import matplotlib.pyplot as plt\n",
    "%matplotlib inline"
   ]
  },
  {
   "cell_type": "markdown",
   "id": "97d5ec53",
   "metadata": {},
   "source": [
    "###### Importing the Dataset and assigning it to variable 'df'"
   ]
  },
  {
   "cell_type": "code",
   "execution_count": 7,
   "id": "2352fa46",
   "metadata": {},
   "outputs": [],
   "source": [
    "df = pd.read_csv('Aemf1.csv')"
   ]
  },
  {
   "cell_type": "markdown",
   "id": "e5cf2ecc",
   "metadata": {},
   "source": [
    "#### Understanding the Dataset\n",
    "###### This displays the first 5 rows of data"
   ]
  },
  {
   "cell_type": "code",
   "execution_count": 8,
   "id": "aba3b611",
   "metadata": {},
   "outputs": [
    {
     "data": {
      "text/html": [
       "<div>\n",
       "<style scoped>\n",
       "    .dataframe tbody tr th:only-of-type {\n",
       "        vertical-align: middle;\n",
       "    }\n",
       "\n",
       "    .dataframe tbody tr th {\n",
       "        vertical-align: top;\n",
       "    }\n",
       "\n",
       "    .dataframe thead th {\n",
       "        text-align: right;\n",
       "    }\n",
       "</style>\n",
       "<table border=\"1\" class=\"dataframe\">\n",
       "  <thead>\n",
       "    <tr style=\"text-align: right;\">\n",
       "      <th></th>\n",
       "      <th>City</th>\n",
       "      <th>Price</th>\n",
       "      <th>Day</th>\n",
       "      <th>Room Type</th>\n",
       "      <th>Shared Room</th>\n",
       "      <th>Private Room</th>\n",
       "      <th>Person Capacity</th>\n",
       "      <th>Superhost</th>\n",
       "      <th>Multiple Rooms</th>\n",
       "      <th>Business</th>\n",
       "      <th>Cleanliness Rating</th>\n",
       "      <th>Guest Satisfaction</th>\n",
       "      <th>Bedrooms</th>\n",
       "      <th>City Center (km)</th>\n",
       "      <th>Metro Distance (km)</th>\n",
       "      <th>Attraction Index</th>\n",
       "      <th>Normalised Attraction Index</th>\n",
       "      <th>Restraunt Index</th>\n",
       "      <th>Normalised Restraunt Index</th>\n",
       "    </tr>\n",
       "  </thead>\n",
       "  <tbody>\n",
       "    <tr>\n",
       "      <th>0</th>\n",
       "      <td>Amsterdam</td>\n",
       "      <td>194.033698</td>\n",
       "      <td>Weekday</td>\n",
       "      <td>Private room</td>\n",
       "      <td>False</td>\n",
       "      <td>True</td>\n",
       "      <td>2.0</td>\n",
       "      <td>False</td>\n",
       "      <td>1</td>\n",
       "      <td>0</td>\n",
       "      <td>10.0</td>\n",
       "      <td>93.0</td>\n",
       "      <td>1</td>\n",
       "      <td>5.022964</td>\n",
       "      <td>2.539380</td>\n",
       "      <td>78.690379</td>\n",
       "      <td>4.166708</td>\n",
       "      <td>98.253896</td>\n",
       "      <td>6.846473</td>\n",
       "    </tr>\n",
       "    <tr>\n",
       "      <th>1</th>\n",
       "      <td>Amsterdam</td>\n",
       "      <td>344.245776</td>\n",
       "      <td>Weekday</td>\n",
       "      <td>Private room</td>\n",
       "      <td>False</td>\n",
       "      <td>True</td>\n",
       "      <td>4.0</td>\n",
       "      <td>False</td>\n",
       "      <td>0</td>\n",
       "      <td>0</td>\n",
       "      <td>8.0</td>\n",
       "      <td>85.0</td>\n",
       "      <td>1</td>\n",
       "      <td>0.488389</td>\n",
       "      <td>0.239404</td>\n",
       "      <td>631.176378</td>\n",
       "      <td>33.421209</td>\n",
       "      <td>837.280757</td>\n",
       "      <td>58.342928</td>\n",
       "    </tr>\n",
       "    <tr>\n",
       "      <th>2</th>\n",
       "      <td>Amsterdam</td>\n",
       "      <td>264.101422</td>\n",
       "      <td>Weekday</td>\n",
       "      <td>Private room</td>\n",
       "      <td>False</td>\n",
       "      <td>True</td>\n",
       "      <td>2.0</td>\n",
       "      <td>False</td>\n",
       "      <td>0</td>\n",
       "      <td>1</td>\n",
       "      <td>9.0</td>\n",
       "      <td>87.0</td>\n",
       "      <td>1</td>\n",
       "      <td>5.748312</td>\n",
       "      <td>3.651621</td>\n",
       "      <td>75.275877</td>\n",
       "      <td>3.985908</td>\n",
       "      <td>95.386955</td>\n",
       "      <td>6.646700</td>\n",
       "    </tr>\n",
       "    <tr>\n",
       "      <th>3</th>\n",
       "      <td>Amsterdam</td>\n",
       "      <td>433.529398</td>\n",
       "      <td>Weekday</td>\n",
       "      <td>Private room</td>\n",
       "      <td>False</td>\n",
       "      <td>True</td>\n",
       "      <td>4.0</td>\n",
       "      <td>False</td>\n",
       "      <td>0</td>\n",
       "      <td>1</td>\n",
       "      <td>9.0</td>\n",
       "      <td>90.0</td>\n",
       "      <td>2</td>\n",
       "      <td>0.384862</td>\n",
       "      <td>0.439876</td>\n",
       "      <td>493.272534</td>\n",
       "      <td>26.119108</td>\n",
       "      <td>875.033098</td>\n",
       "      <td>60.973565</td>\n",
       "    </tr>\n",
       "    <tr>\n",
       "      <th>4</th>\n",
       "      <td>Amsterdam</td>\n",
       "      <td>485.552926</td>\n",
       "      <td>Weekday</td>\n",
       "      <td>Private room</td>\n",
       "      <td>False</td>\n",
       "      <td>True</td>\n",
       "      <td>2.0</td>\n",
       "      <td>True</td>\n",
       "      <td>0</td>\n",
       "      <td>0</td>\n",
       "      <td>10.0</td>\n",
       "      <td>98.0</td>\n",
       "      <td>1</td>\n",
       "      <td>0.544738</td>\n",
       "      <td>0.318693</td>\n",
       "      <td>552.830324</td>\n",
       "      <td>29.272733</td>\n",
       "      <td>815.305740</td>\n",
       "      <td>56.811677</td>\n",
       "    </tr>\n",
       "  </tbody>\n",
       "</table>\n",
       "</div>"
      ],
      "text/plain": [
       "        City       Price      Day     Room Type  Shared Room  Private Room  \\\n",
       "0  Amsterdam  194.033698  Weekday  Private room        False          True   \n",
       "1  Amsterdam  344.245776  Weekday  Private room        False          True   \n",
       "2  Amsterdam  264.101422  Weekday  Private room        False          True   \n",
       "3  Amsterdam  433.529398  Weekday  Private room        False          True   \n",
       "4  Amsterdam  485.552926  Weekday  Private room        False          True   \n",
       "\n",
       "   Person Capacity  Superhost  Multiple Rooms  Business  Cleanliness Rating  \\\n",
       "0              2.0      False               1         0                10.0   \n",
       "1              4.0      False               0         0                 8.0   \n",
       "2              2.0      False               0         1                 9.0   \n",
       "3              4.0      False               0         1                 9.0   \n",
       "4              2.0       True               0         0                10.0   \n",
       "\n",
       "   Guest Satisfaction  Bedrooms  City Center (km)  Metro Distance (km)  \\\n",
       "0                93.0         1          5.022964             2.539380   \n",
       "1                85.0         1          0.488389             0.239404   \n",
       "2                87.0         1          5.748312             3.651621   \n",
       "3                90.0         2          0.384862             0.439876   \n",
       "4                98.0         1          0.544738             0.318693   \n",
       "\n",
       "   Attraction Index  Normalised Attraction Index  Restraunt Index  \\\n",
       "0         78.690379                     4.166708        98.253896   \n",
       "1        631.176378                    33.421209       837.280757   \n",
       "2         75.275877                     3.985908        95.386955   \n",
       "3        493.272534                    26.119108       875.033098   \n",
       "4        552.830324                    29.272733       815.305740   \n",
       "\n",
       "   Normalised Restraunt Index  \n",
       "0                    6.846473  \n",
       "1                   58.342928  \n",
       "2                    6.646700  \n",
       "3                   60.973565  \n",
       "4                   56.811677  "
      ]
     },
     "execution_count": 8,
     "metadata": {},
     "output_type": "execute_result"
    }
   ],
   "source": [
    "df.head()"
   ]
  },
  {
   "cell_type": "markdown",
   "id": "1129fd25",
   "metadata": {},
   "source": [
    "###### This displays the total number of rows and columns"
   ]
  },
  {
   "cell_type": "code",
   "execution_count": 9,
   "id": "62c0a28c",
   "metadata": {},
   "outputs": [
    {
     "data": {
      "text/plain": [
       "(41714, 19)"
      ]
     },
     "execution_count": 9,
     "metadata": {},
     "output_type": "execute_result"
    }
   ],
   "source": [
    "df.shape"
   ]
  },
  {
   "cell_type": "markdown",
   "id": "65223a2f",
   "metadata": {},
   "source": [
    "###### This shows the total sum of empty cells in every column in the data set."
   ]
  },
  {
   "cell_type": "code",
   "execution_count": 10,
   "id": "e9417e54",
   "metadata": {},
   "outputs": [
    {
     "data": {
      "text/plain": [
       "City                           0\n",
       "Price                          0\n",
       "Day                            0\n",
       "Room Type                      0\n",
       "Shared Room                    0\n",
       "Private Room                   0\n",
       "Person Capacity                0\n",
       "Superhost                      0\n",
       "Multiple Rooms                 0\n",
       "Business                       0\n",
       "Cleanliness Rating             0\n",
       "Guest Satisfaction             0\n",
       "Bedrooms                       0\n",
       "City Center (km)               0\n",
       "Metro Distance (km)            0\n",
       "Attraction Index               0\n",
       "Normalised Attraction Index    0\n",
       "Restraunt Index                0\n",
       "Normalised Restraunt Index     0\n",
       "dtype: int64"
      ]
     },
     "execution_count": 10,
     "metadata": {},
     "output_type": "execute_result"
    }
   ],
   "source": [
    "df.isnull().sum()"
   ]
  },
  {
   "cell_type": "markdown",
   "id": "7c816aa9",
   "metadata": {},
   "source": [
    "### Converting letters(strings) to numbers(0,1) that the computer understands"
   ]
  },
  {
   "cell_type": "code",
   "execution_count": 11,
   "id": "cc888a1f",
   "metadata": {},
   "outputs": [],
   "source": [
    "df = pd.get_dummies(data=df, columns=['City', 'Day', 'Room Type', 'Shared Room', 'Private Room', 'Superhost'], drop_first=True)"
   ]
  },
  {
   "cell_type": "code",
   "execution_count": 12,
   "id": "2849736b",
   "metadata": {},
   "outputs": [
    {
     "data": {
      "text/html": [
       "<div>\n",
       "<style scoped>\n",
       "    .dataframe tbody tr th:only-of-type {\n",
       "        vertical-align: middle;\n",
       "    }\n",
       "\n",
       "    .dataframe tbody tr th {\n",
       "        vertical-align: top;\n",
       "    }\n",
       "\n",
       "    .dataframe thead th {\n",
       "        text-align: right;\n",
       "    }\n",
       "</style>\n",
       "<table border=\"1\" class=\"dataframe\">\n",
       "  <thead>\n",
       "    <tr style=\"text-align: right;\">\n",
       "      <th></th>\n",
       "      <th>Price</th>\n",
       "      <th>Person Capacity</th>\n",
       "      <th>Multiple Rooms</th>\n",
       "      <th>Business</th>\n",
       "      <th>Cleanliness Rating</th>\n",
       "      <th>Guest Satisfaction</th>\n",
       "      <th>Bedrooms</th>\n",
       "      <th>City Center (km)</th>\n",
       "      <th>Metro Distance (km)</th>\n",
       "      <th>Attraction Index</th>\n",
       "      <th>...</th>\n",
       "      <th>City_Lisbon</th>\n",
       "      <th>City_Paris</th>\n",
       "      <th>City_Rome</th>\n",
       "      <th>City_Vienna</th>\n",
       "      <th>Day_Weekend</th>\n",
       "      <th>Room Type_Private room</th>\n",
       "      <th>Room Type_Shared room</th>\n",
       "      <th>Shared Room_True</th>\n",
       "      <th>Private Room_True</th>\n",
       "      <th>Superhost_True</th>\n",
       "    </tr>\n",
       "  </thead>\n",
       "  <tbody>\n",
       "    <tr>\n",
       "      <th>0</th>\n",
       "      <td>194.033698</td>\n",
       "      <td>2.0</td>\n",
       "      <td>1</td>\n",
       "      <td>0</td>\n",
       "      <td>10.0</td>\n",
       "      <td>93.0</td>\n",
       "      <td>1</td>\n",
       "      <td>5.022964</td>\n",
       "      <td>2.539380</td>\n",
       "      <td>78.690379</td>\n",
       "      <td>...</td>\n",
       "      <td>0</td>\n",
       "      <td>0</td>\n",
       "      <td>0</td>\n",
       "      <td>0</td>\n",
       "      <td>0</td>\n",
       "      <td>1</td>\n",
       "      <td>0</td>\n",
       "      <td>0</td>\n",
       "      <td>1</td>\n",
       "      <td>0</td>\n",
       "    </tr>\n",
       "    <tr>\n",
       "      <th>1</th>\n",
       "      <td>344.245776</td>\n",
       "      <td>4.0</td>\n",
       "      <td>0</td>\n",
       "      <td>0</td>\n",
       "      <td>8.0</td>\n",
       "      <td>85.0</td>\n",
       "      <td>1</td>\n",
       "      <td>0.488389</td>\n",
       "      <td>0.239404</td>\n",
       "      <td>631.176378</td>\n",
       "      <td>...</td>\n",
       "      <td>0</td>\n",
       "      <td>0</td>\n",
       "      <td>0</td>\n",
       "      <td>0</td>\n",
       "      <td>0</td>\n",
       "      <td>1</td>\n",
       "      <td>0</td>\n",
       "      <td>0</td>\n",
       "      <td>1</td>\n",
       "      <td>0</td>\n",
       "    </tr>\n",
       "    <tr>\n",
       "      <th>2</th>\n",
       "      <td>264.101422</td>\n",
       "      <td>2.0</td>\n",
       "      <td>0</td>\n",
       "      <td>1</td>\n",
       "      <td>9.0</td>\n",
       "      <td>87.0</td>\n",
       "      <td>1</td>\n",
       "      <td>5.748312</td>\n",
       "      <td>3.651621</td>\n",
       "      <td>75.275877</td>\n",
       "      <td>...</td>\n",
       "      <td>0</td>\n",
       "      <td>0</td>\n",
       "      <td>0</td>\n",
       "      <td>0</td>\n",
       "      <td>0</td>\n",
       "      <td>1</td>\n",
       "      <td>0</td>\n",
       "      <td>0</td>\n",
       "      <td>1</td>\n",
       "      <td>0</td>\n",
       "    </tr>\n",
       "    <tr>\n",
       "      <th>3</th>\n",
       "      <td>433.529398</td>\n",
       "      <td>4.0</td>\n",
       "      <td>0</td>\n",
       "      <td>1</td>\n",
       "      <td>9.0</td>\n",
       "      <td>90.0</td>\n",
       "      <td>2</td>\n",
       "      <td>0.384862</td>\n",
       "      <td>0.439876</td>\n",
       "      <td>493.272534</td>\n",
       "      <td>...</td>\n",
       "      <td>0</td>\n",
       "      <td>0</td>\n",
       "      <td>0</td>\n",
       "      <td>0</td>\n",
       "      <td>0</td>\n",
       "      <td>1</td>\n",
       "      <td>0</td>\n",
       "      <td>0</td>\n",
       "      <td>1</td>\n",
       "      <td>0</td>\n",
       "    </tr>\n",
       "    <tr>\n",
       "      <th>4</th>\n",
       "      <td>485.552926</td>\n",
       "      <td>2.0</td>\n",
       "      <td>0</td>\n",
       "      <td>0</td>\n",
       "      <td>10.0</td>\n",
       "      <td>98.0</td>\n",
       "      <td>1</td>\n",
       "      <td>0.544738</td>\n",
       "      <td>0.318693</td>\n",
       "      <td>552.830324</td>\n",
       "      <td>...</td>\n",
       "      <td>0</td>\n",
       "      <td>0</td>\n",
       "      <td>0</td>\n",
       "      <td>0</td>\n",
       "      <td>0</td>\n",
       "      <td>1</td>\n",
       "      <td>0</td>\n",
       "      <td>0</td>\n",
       "      <td>1</td>\n",
       "      <td>1</td>\n",
       "    </tr>\n",
       "  </tbody>\n",
       "</table>\n",
       "<p>5 rows × 27 columns</p>\n",
       "</div>"
      ],
      "text/plain": [
       "        Price  Person Capacity  Multiple Rooms  Business  Cleanliness Rating  \\\n",
       "0  194.033698              2.0               1         0                10.0   \n",
       "1  344.245776              4.0               0         0                 8.0   \n",
       "2  264.101422              2.0               0         1                 9.0   \n",
       "3  433.529398              4.0               0         1                 9.0   \n",
       "4  485.552926              2.0               0         0                10.0   \n",
       "\n",
       "   Guest Satisfaction  Bedrooms  City Center (km)  Metro Distance (km)  \\\n",
       "0                93.0         1          5.022964             2.539380   \n",
       "1                85.0         1          0.488389             0.239404   \n",
       "2                87.0         1          5.748312             3.651621   \n",
       "3                90.0         2          0.384862             0.439876   \n",
       "4                98.0         1          0.544738             0.318693   \n",
       "\n",
       "   Attraction Index  ...  City_Lisbon  City_Paris  City_Rome  City_Vienna  \\\n",
       "0         78.690379  ...            0           0          0            0   \n",
       "1        631.176378  ...            0           0          0            0   \n",
       "2         75.275877  ...            0           0          0            0   \n",
       "3        493.272534  ...            0           0          0            0   \n",
       "4        552.830324  ...            0           0          0            0   \n",
       "\n",
       "   Day_Weekend  Room Type_Private room  Room Type_Shared room  \\\n",
       "0            0                       1                      0   \n",
       "1            0                       1                      0   \n",
       "2            0                       1                      0   \n",
       "3            0                       1                      0   \n",
       "4            0                       1                      0   \n",
       "\n",
       "   Shared Room_True  Private Room_True  Superhost_True  \n",
       "0                 0                  1               0  \n",
       "1                 0                  1               0  \n",
       "2                 0                  1               0  \n",
       "3                 0                  1               0  \n",
       "4                 0                  1               1  \n",
       "\n",
       "[5 rows x 27 columns]"
      ]
     },
     "execution_count": 12,
     "metadata": {},
     "output_type": "execute_result"
    }
   ],
   "source": [
    "df.head()"
   ]
  },
  {
   "cell_type": "code",
   "execution_count": 13,
   "id": "75520d3f",
   "metadata": {},
   "outputs": [],
   "source": [
    "from sklearn.preprocessing import MinMaxScaler"
   ]
  },
  {
   "cell_type": "code",
   "execution_count": 14,
   "id": "79cbe121",
   "metadata": {},
   "outputs": [
    {
     "data": {
      "text/plain": [
       "Index(['Price', 'Person Capacity', 'Multiple Rooms', 'Business',\n",
       "       'Cleanliness Rating', 'Guest Satisfaction', 'Bedrooms',\n",
       "       'City Center (km)', 'Metro Distance (km)', 'Attraction Index',\n",
       "       'Normalised Attraction Index', 'Restraunt Index',\n",
       "       'Normalised Restraunt Index', 'City_Athens', 'City_Barcelona',\n",
       "       'City_Berlin', 'City_Budapest', 'City_Lisbon', 'City_Paris',\n",
       "       'City_Rome', 'City_Vienna', 'Day_Weekend', 'Room Type_Private room',\n",
       "       'Room Type_Shared room', 'Shared Room_True', 'Private Room_True',\n",
       "       'Superhost_True'],\n",
       "      dtype='object')"
      ]
     },
     "execution_count": 14,
     "metadata": {},
     "output_type": "execute_result"
    }
   ],
   "source": [
    "df.columns"
   ]
  },
  {
   "cell_type": "code",
   "execution_count": 15,
   "id": "f21e172e",
   "metadata": {},
   "outputs": [],
   "source": [
    "col = df.columns"
   ]
  },
  {
   "cell_type": "code",
   "execution_count": 16,
   "id": "6e0cf80d",
   "metadata": {},
   "outputs": [],
   "source": [
    "Scaler = MinMaxScaler()"
   ]
  },
  {
   "cell_type": "code",
   "execution_count": 17,
   "id": "2b1aae92",
   "metadata": {},
   "outputs": [
    {
     "data": {
      "text/plain": [
       "array([[0.00860338, 0.        , 1.        , ..., 0.        , 1.        ,\n",
       "        0.        ],\n",
       "       [0.01671827, 0.5       , 0.        , ..., 0.        , 1.        ,\n",
       "        0.        ],\n",
       "       [0.01238864, 0.        , 0.        , ..., 0.        , 1.        ,\n",
       "        0.        ],\n",
       "       ...,\n",
       "       [0.03254283, 0.        , 0.        , ..., 0.        , 0.        ,\n",
       "        0.        ],\n",
       "       [0.01438494, 0.        , 0.        , ..., 0.        , 1.        ,\n",
       "        0.        ],\n",
       "       [0.00531862, 0.5       , 1.        , ..., 0.        , 1.        ,\n",
       "        1.        ]])"
      ]
     },
     "execution_count": 17,
     "metadata": {},
     "output_type": "execute_result"
    }
   ],
   "source": [
    "Scaler = Scaler.fit_transform(df)\n",
    "Scaler"
   ]
  },
  {
   "cell_type": "code",
   "execution_count": 18,
   "id": "9c063e22",
   "metadata": {},
   "outputs": [],
   "source": [
    "df = Scaler\n",
    "df=pd.DataFrame(df, columns=col)"
   ]
  },
  {
   "cell_type": "markdown",
   "id": "c0feb85f",
   "metadata": {},
   "source": [
    "### Creating the x-array and assigning it to variable x.\n",
    "###### (x contains the data that will be used to make predictions)"
   ]
  },
  {
   "cell_type": "code",
   "execution_count": 19,
   "id": "6eeebf06",
   "metadata": {},
   "outputs": [],
   "source": [
    "X = df.drop(['Price'],axis=1)"
   ]
  },
  {
   "cell_type": "markdown",
   "id": "769a713d",
   "metadata": {},
   "source": [
    "#### Creating the y-array and assigning it to variable y.\n",
    "###### (y contains the data that we are trying to predict)"
   ]
  },
  {
   "cell_type": "code",
   "execution_count": 20,
   "id": "34c8fd23",
   "metadata": {},
   "outputs": [],
   "source": [
    "y = df['Price']"
   ]
  },
  {
   "cell_type": "markdown",
   "id": "6c0515f0",
   "metadata": {},
   "source": [
    "### Splitting the Data Set into Training Data and Test Data."
   ]
  },
  {
   "cell_type": "code",
   "execution_count": 21,
   "id": "188fef22",
   "metadata": {},
   "outputs": [],
   "source": [
    "from sklearn.model_selection import train_test_split"
   ]
  },
  {
   "cell_type": "code",
   "execution_count": 22,
   "id": "9bbf1ee2",
   "metadata": {},
   "outputs": [
    {
     "data": {
      "text/html": [
       "<div>\n",
       "<style scoped>\n",
       "    .dataframe tbody tr th:only-of-type {\n",
       "        vertical-align: middle;\n",
       "    }\n",
       "\n",
       "    .dataframe tbody tr th {\n",
       "        vertical-align: top;\n",
       "    }\n",
       "\n",
       "    .dataframe thead th {\n",
       "        text-align: right;\n",
       "    }\n",
       "</style>\n",
       "<table border=\"1\" class=\"dataframe\">\n",
       "  <thead>\n",
       "    <tr style=\"text-align: right;\">\n",
       "      <th></th>\n",
       "      <th>Person Capacity</th>\n",
       "      <th>Multiple Rooms</th>\n",
       "      <th>Business</th>\n",
       "      <th>Cleanliness Rating</th>\n",
       "      <th>Guest Satisfaction</th>\n",
       "      <th>Bedrooms</th>\n",
       "      <th>City Center (km)</th>\n",
       "      <th>Metro Distance (km)</th>\n",
       "      <th>Attraction Index</th>\n",
       "      <th>Normalised Attraction Index</th>\n",
       "      <th>...</th>\n",
       "      <th>City_Lisbon</th>\n",
       "      <th>City_Paris</th>\n",
       "      <th>City_Rome</th>\n",
       "      <th>City_Vienna</th>\n",
       "      <th>Day_Weekend</th>\n",
       "      <th>Room Type_Private room</th>\n",
       "      <th>Room Type_Shared room</th>\n",
       "      <th>Shared Room_True</th>\n",
       "      <th>Private Room_True</th>\n",
       "      <th>Superhost_True</th>\n",
       "    </tr>\n",
       "  </thead>\n",
       "  <tbody>\n",
       "    <tr>\n",
       "      <th>0</th>\n",
       "      <td>0.0</td>\n",
       "      <td>1.0</td>\n",
       "      <td>0.0</td>\n",
       "      <td>1.000</td>\n",
       "      <td>0.9125</td>\n",
       "      <td>0.1</td>\n",
       "      <td>0.198180</td>\n",
       "      <td>0.177775</td>\n",
       "      <td>0.014125</td>\n",
       "      <td>0.032707</td>\n",
       "      <td>...</td>\n",
       "      <td>0.0</td>\n",
       "      <td>0.0</td>\n",
       "      <td>0.0</td>\n",
       "      <td>0.0</td>\n",
       "      <td>0.0</td>\n",
       "      <td>1.0</td>\n",
       "      <td>0.0</td>\n",
       "      <td>0.0</td>\n",
       "      <td>1.0</td>\n",
       "      <td>0.0</td>\n",
       "    </tr>\n",
       "    <tr>\n",
       "      <th>1</th>\n",
       "      <td>0.5</td>\n",
       "      <td>0.0</td>\n",
       "      <td>0.0</td>\n",
       "      <td>0.750</td>\n",
       "      <td>0.8125</td>\n",
       "      <td>0.1</td>\n",
       "      <td>0.018732</td>\n",
       "      <td>0.016614</td>\n",
       "      <td>0.136943</td>\n",
       "      <td>0.327987</td>\n",
       "      <td>...</td>\n",
       "      <td>0.0</td>\n",
       "      <td>0.0</td>\n",
       "      <td>0.0</td>\n",
       "      <td>0.0</td>\n",
       "      <td>0.0</td>\n",
       "      <td>1.0</td>\n",
       "      <td>0.0</td>\n",
       "      <td>0.0</td>\n",
       "      <td>1.0</td>\n",
       "      <td>0.0</td>\n",
       "    </tr>\n",
       "    <tr>\n",
       "      <th>2</th>\n",
       "      <td>0.0</td>\n",
       "      <td>0.0</td>\n",
       "      <td>1.0</td>\n",
       "      <td>0.875</td>\n",
       "      <td>0.8375</td>\n",
       "      <td>0.1</td>\n",
       "      <td>0.226885</td>\n",
       "      <td>0.255711</td>\n",
       "      <td>0.013366</td>\n",
       "      <td>0.030882</td>\n",
       "      <td>...</td>\n",
       "      <td>0.0</td>\n",
       "      <td>0.0</td>\n",
       "      <td>0.0</td>\n",
       "      <td>0.0</td>\n",
       "      <td>0.0</td>\n",
       "      <td>1.0</td>\n",
       "      <td>0.0</td>\n",
       "      <td>0.0</td>\n",
       "      <td>1.0</td>\n",
       "      <td>0.0</td>\n",
       "    </tr>\n",
       "    <tr>\n",
       "      <th>3</th>\n",
       "      <td>0.5</td>\n",
       "      <td>0.0</td>\n",
       "      <td>1.0</td>\n",
       "      <td>0.875</td>\n",
       "      <td>0.8750</td>\n",
       "      <td>0.2</td>\n",
       "      <td>0.014635</td>\n",
       "      <td>0.030661</td>\n",
       "      <td>0.106286</td>\n",
       "      <td>0.254284</td>\n",
       "      <td>...</td>\n",
       "      <td>0.0</td>\n",
       "      <td>0.0</td>\n",
       "      <td>0.0</td>\n",
       "      <td>0.0</td>\n",
       "      <td>0.0</td>\n",
       "      <td>1.0</td>\n",
       "      <td>0.0</td>\n",
       "      <td>0.0</td>\n",
       "      <td>1.0</td>\n",
       "      <td>0.0</td>\n",
       "    </tr>\n",
       "    <tr>\n",
       "      <th>4</th>\n",
       "      <td>0.0</td>\n",
       "      <td>0.0</td>\n",
       "      <td>0.0</td>\n",
       "      <td>1.000</td>\n",
       "      <td>0.9750</td>\n",
       "      <td>0.1</td>\n",
       "      <td>0.020962</td>\n",
       "      <td>0.022170</td>\n",
       "      <td>0.119526</td>\n",
       "      <td>0.286115</td>\n",
       "      <td>...</td>\n",
       "      <td>0.0</td>\n",
       "      <td>0.0</td>\n",
       "      <td>0.0</td>\n",
       "      <td>0.0</td>\n",
       "      <td>0.0</td>\n",
       "      <td>1.0</td>\n",
       "      <td>0.0</td>\n",
       "      <td>0.0</td>\n",
       "      <td>1.0</td>\n",
       "      <td>1.0</td>\n",
       "    </tr>\n",
       "  </tbody>\n",
       "</table>\n",
       "<p>5 rows × 26 columns</p>\n",
       "</div>"
      ],
      "text/plain": [
       "   Person Capacity  Multiple Rooms  Business  Cleanliness Rating  \\\n",
       "0              0.0             1.0       0.0               1.000   \n",
       "1              0.5             0.0       0.0               0.750   \n",
       "2              0.0             0.0       1.0               0.875   \n",
       "3              0.5             0.0       1.0               0.875   \n",
       "4              0.0             0.0       0.0               1.000   \n",
       "\n",
       "   Guest Satisfaction  Bedrooms  City Center (km)  Metro Distance (km)  \\\n",
       "0              0.9125       0.1          0.198180             0.177775   \n",
       "1              0.8125       0.1          0.018732             0.016614   \n",
       "2              0.8375       0.1          0.226885             0.255711   \n",
       "3              0.8750       0.2          0.014635             0.030661   \n",
       "4              0.9750       0.1          0.020962             0.022170   \n",
       "\n",
       "   Attraction Index  Normalised Attraction Index  ...  City_Lisbon  \\\n",
       "0          0.014125                     0.032707  ...          0.0   \n",
       "1          0.136943                     0.327987  ...          0.0   \n",
       "2          0.013366                     0.030882  ...          0.0   \n",
       "3          0.106286                     0.254284  ...          0.0   \n",
       "4          0.119526                     0.286115  ...          0.0   \n",
       "\n",
       "   City_Paris  City_Rome  City_Vienna  Day_Weekend  Room Type_Private room  \\\n",
       "0         0.0        0.0          0.0          0.0                     1.0   \n",
       "1         0.0        0.0          0.0          0.0                     1.0   \n",
       "2         0.0        0.0          0.0          0.0                     1.0   \n",
       "3         0.0        0.0          0.0          0.0                     1.0   \n",
       "4         0.0        0.0          0.0          0.0                     1.0   \n",
       "\n",
       "   Room Type_Shared room  Shared Room_True  Private Room_True  Superhost_True  \n",
       "0                    0.0               0.0                1.0             0.0  \n",
       "1                    0.0               0.0                1.0             0.0  \n",
       "2                    0.0               0.0                1.0             0.0  \n",
       "3                    0.0               0.0                1.0             0.0  \n",
       "4                    0.0               0.0                1.0             1.0  \n",
       "\n",
       "[5 rows x 26 columns]"
      ]
     },
     "execution_count": 22,
     "metadata": {},
     "output_type": "execute_result"
    }
   ],
   "source": [
    "X.head()"
   ]
  },
  {
   "cell_type": "markdown",
   "id": "736f4b2b",
   "metadata": {},
   "source": [
    "#### The test data is 20% of the entire data set:"
   ]
  },
  {
   "cell_type": "code",
   "execution_count": 23,
   "id": "626d90df",
   "metadata": {},
   "outputs": [],
   "source": [
    "X_train, X_test, y_train, y_test = train_test_split(X, y, test_size = 0.2, random_state = 36)"
   ]
  },
  {
   "cell_type": "markdown",
   "id": "c46ba66a",
   "metadata": {},
   "source": [
    "## Building and Training the Model"
   ]
  },
  {
   "cell_type": "markdown",
   "id": "b104e4f6",
   "metadata": {},
   "source": [
    "#### Creating an instance of LinearRegression and assigning it to a variable called 'linear_model'"
   ]
  },
  {
   "cell_type": "code",
   "execution_count": 24,
   "id": "bdce384c",
   "metadata": {},
   "outputs": [
    {
     "data": {
      "text/plain": [
       "LinearRegression()"
      ]
     },
     "execution_count": 24,
     "metadata": {},
     "output_type": "execute_result"
    }
   ],
   "source": [
    "linear_model = LinearRegression()\n",
    "linear_model.fit(X_train, y_train)"
   ]
  },
  {
   "cell_type": "markdown",
   "id": "be322452",
   "metadata": {},
   "source": [
    "#### Creating an instance of RandomForestRegression and assigning it to a variable called 'rf_model'"
   ]
  },
  {
   "cell_type": "code",
   "execution_count": 25,
   "id": "9bdec3d9",
   "metadata": {
    "scrolled": true
   },
   "outputs": [
    {
     "data": {
      "text/plain": [
       "RandomForestRegressor()"
      ]
     },
     "execution_count": 25,
     "metadata": {},
     "output_type": "execute_result"
    }
   ],
   "source": [
    "rf_model = RandomForestRegressor()\n",
    "rf_model.fit(X_train, y_train)"
   ]
  },
  {
   "cell_type": "markdown",
   "id": "98ef7363",
   "metadata": {},
   "source": [
    "#### Creating an instance of DecisionTreeRegression and assigning it to a variable called 'dt_model'"
   ]
  },
  {
   "cell_type": "code",
   "execution_count": 26,
   "id": "5dfceb68",
   "metadata": {},
   "outputs": [
    {
     "data": {
      "text/plain": [
       "DecisionTreeRegressor()"
      ]
     },
     "execution_count": 26,
     "metadata": {},
     "output_type": "execute_result"
    }
   ],
   "source": [
    "dt_model = DecisionTreeRegressor()\n",
    "dt_model.fit(X_train, y_train)"
   ]
  },
  {
   "cell_type": "markdown",
   "id": "7f9eb691",
   "metadata": {},
   "source": [
    "#### Making predictions on the test set using all three models."
   ]
  },
  {
   "cell_type": "code",
   "execution_count": 27,
   "id": "0dbe2312",
   "metadata": {},
   "outputs": [],
   "source": [
    "linear_predictions = linear_model.predict(X_test)\n",
    "rf_predictions = rf_model.predict(X_test)\n",
    "dt_predictions = dt_model.predict(X_test)"
   ]
  },
  {
   "cell_type": "markdown",
   "id": "9e7a38d2",
   "metadata": {},
   "source": [
    "### Calculating evaluation metrics for each model\n",
    "###### 1. LinearRegression metrics"
   ]
  },
  {
   "cell_type": "code",
   "execution_count": 28,
   "id": "fedbf77d",
   "metadata": {},
   "outputs": [],
   "source": [
    "linear_mse = mean_squared_error(y_test, linear_predictions)\n",
    "linear_mae = mean_absolute_error(y_test, linear_predictions)\n",
    "linear_r2 = r2_score(y_test, linear_predictions)"
   ]
  },
  {
   "cell_type": "markdown",
   "id": "04b5302e",
   "metadata": {},
   "source": [
    "###### 2. RandomForestRegression metrics"
   ]
  },
  {
   "cell_type": "code",
   "execution_count": 29,
   "id": "dc09169a",
   "metadata": {},
   "outputs": [],
   "source": [
    "rf_mse = mean_squared_error(y_test, rf_predictions)\n",
    "rf_mae = mean_absolute_error(y_test, rf_predictions)\n",
    "rf_r2 = r2_score(y_test, rf_predictions)"
   ]
  },
  {
   "cell_type": "markdown",
   "id": "0b8efa5b",
   "metadata": {},
   "source": [
    "###### 3. DecisionTreeRegression metrics"
   ]
  },
  {
   "cell_type": "code",
   "execution_count": 30,
   "id": "ecf63cd1",
   "metadata": {},
   "outputs": [],
   "source": [
    "dt_mse = mean_squared_error(y_test, dt_predictions)\n",
    "dt_mae = mean_absolute_error(y_test, dt_predictions)\n",
    "dt_r2 = r2_score(y_test, dt_predictions)"
   ]
  },
  {
   "cell_type": "code",
   "execution_count": 31,
   "id": "1ade7a91",
   "metadata": {},
   "outputs": [
    {
     "name": "stdout",
     "output_type": "stream",
     "text": [
      "Linear Regression:\n",
      "MSE: 0.0001400143482025719\n",
      "MAE: 0.004512482845893315\n",
      "R2: 0.27609100284525667\n",
      "\n",
      "Random Forest:\n",
      "MSE: 5.2836070599444714e-05\n",
      "MAE: 0.0027585125068174004\n",
      "R2: 0.7268243764138834\n",
      "\n",
      "Decision Tree:\n",
      "MSE: 5.5464392451557034e-05\n",
      "MAE: 0.0028222229908285703\n",
      "R2: 0.7132352988615617\n"
     ]
    }
   ],
   "source": [
    "print(\"Linear Regression:\")\n",
    "print(f\"MSE: {linear_mse}\")\n",
    "print(f\"MAE: {linear_mae}\")\n",
    "print(f\"R2: {linear_r2}\")\n",
    "print(\"\\nRandom Forest:\")\n",
    "print(f\"MSE: {rf_mse}\")\n",
    "print(f\"MAE: {rf_mae}\")\n",
    "print(f\"R2: {rf_r2}\")\n",
    "print(\"\\nDecision Tree:\")\n",
    "print(f\"MSE: {dt_mse}\")\n",
    "print(f\"MAE: {dt_mae}\")\n",
    "print(f\"R2: {dt_r2}\")"
   ]
  },
  {
   "cell_type": "markdown",
   "id": "620e5262",
   "metadata": {},
   "source": [
    "### Comparing Actual Values and Predicted Values"
   ]
  },
  {
   "cell_type": "code",
   "execution_count": 32,
   "id": "58b38049",
   "metadata": {},
   "outputs": [],
   "source": [
    "df_1 = pd.DataFrame(data={\"Actual Values\": y_test, \"Predicted Values\": linear_predictions})"
   ]
  },
  {
   "cell_type": "code",
   "execution_count": 33,
   "id": "12cd3e7b",
   "metadata": {},
   "outputs": [
    {
     "data": {
      "text/html": [
       "<div>\n",
       "<style scoped>\n",
       "    .dataframe tbody tr th:only-of-type {\n",
       "        vertical-align: middle;\n",
       "    }\n",
       "\n",
       "    .dataframe tbody tr th {\n",
       "        vertical-align: top;\n",
       "    }\n",
       "\n",
       "    .dataframe thead th {\n",
       "        text-align: right;\n",
       "    }\n",
       "</style>\n",
       "<table border=\"1\" class=\"dataframe\">\n",
       "  <thead>\n",
       "    <tr style=\"text-align: right;\">\n",
       "      <th></th>\n",
       "      <th>Actual Values</th>\n",
       "      <th>Predicted Values</th>\n",
       "    </tr>\n",
       "  </thead>\n",
       "  <tbody>\n",
       "    <tr>\n",
       "      <th>37884</th>\n",
       "      <td>0.006545</td>\n",
       "      <td>0.013364</td>\n",
       "    </tr>\n",
       "    <tr>\n",
       "      <th>36633</th>\n",
       "      <td>0.003615</td>\n",
       "      <td>0.002490</td>\n",
       "    </tr>\n",
       "    <tr>\n",
       "      <th>30431</th>\n",
       "      <td>0.006230</td>\n",
       "      <td>0.014098</td>\n",
       "    </tr>\n",
       "    <tr>\n",
       "      <th>1550</th>\n",
       "      <td>0.008211</td>\n",
       "      <td>0.021862</td>\n",
       "    </tr>\n",
       "    <tr>\n",
       "      <th>18733</th>\n",
       "      <td>0.009220</td>\n",
       "      <td>0.007365</td>\n",
       "    </tr>\n",
       "  </tbody>\n",
       "</table>\n",
       "</div>"
      ],
      "text/plain": [
       "       Actual Values  Predicted Values\n",
       "37884       0.006545          0.013364\n",
       "36633       0.003615          0.002490\n",
       "30431       0.006230          0.014098\n",
       "1550        0.008211          0.021862\n",
       "18733       0.009220          0.007365"
      ]
     },
     "execution_count": 33,
     "metadata": {},
     "output_type": "execute_result"
    }
   ],
   "source": [
    "df_1.head()"
   ]
  },
  {
   "cell_type": "code",
   "execution_count": 34,
   "id": "f4bf82c3",
   "metadata": {},
   "outputs": [],
   "source": [
    "df_2 = pd.DataFrame(data={\"Actual Values\": y_test, \"Predicted Values\": rf_predictions})"
   ]
  },
  {
   "cell_type": "code",
   "execution_count": 35,
   "id": "dda35b95",
   "metadata": {},
   "outputs": [
    {
     "data": {
      "text/html": [
       "<div>\n",
       "<style scoped>\n",
       "    .dataframe tbody tr th:only-of-type {\n",
       "        vertical-align: middle;\n",
       "    }\n",
       "\n",
       "    .dataframe tbody tr th {\n",
       "        vertical-align: top;\n",
       "    }\n",
       "\n",
       "    .dataframe thead th {\n",
       "        text-align: right;\n",
       "    }\n",
       "</style>\n",
       "<table border=\"1\" class=\"dataframe\">\n",
       "  <thead>\n",
       "    <tr style=\"text-align: right;\">\n",
       "      <th></th>\n",
       "      <th>Actual Values</th>\n",
       "      <th>Predicted Values</th>\n",
       "    </tr>\n",
       "  </thead>\n",
       "  <tbody>\n",
       "    <tr>\n",
       "      <th>37884</th>\n",
       "      <td>0.006545</td>\n",
       "      <td>0.007354</td>\n",
       "    </tr>\n",
       "    <tr>\n",
       "      <th>36633</th>\n",
       "      <td>0.003615</td>\n",
       "      <td>0.003678</td>\n",
       "    </tr>\n",
       "    <tr>\n",
       "      <th>30431</th>\n",
       "      <td>0.006230</td>\n",
       "      <td>0.006759</td>\n",
       "    </tr>\n",
       "    <tr>\n",
       "      <th>1550</th>\n",
       "      <td>0.008211</td>\n",
       "      <td>0.013523</td>\n",
       "    </tr>\n",
       "    <tr>\n",
       "      <th>18733</th>\n",
       "      <td>0.009220</td>\n",
       "      <td>0.010885</td>\n",
       "    </tr>\n",
       "  </tbody>\n",
       "</table>\n",
       "</div>"
      ],
      "text/plain": [
       "       Actual Values  Predicted Values\n",
       "37884       0.006545          0.007354\n",
       "36633       0.003615          0.003678\n",
       "30431       0.006230          0.006759\n",
       "1550        0.008211          0.013523\n",
       "18733       0.009220          0.010885"
      ]
     },
     "execution_count": 35,
     "metadata": {},
     "output_type": "execute_result"
    }
   ],
   "source": [
    "df_2.head()"
   ]
  },
  {
   "cell_type": "code",
   "execution_count": 36,
   "id": "cd5d6953",
   "metadata": {},
   "outputs": [],
   "source": [
    "df_3 = pd.DataFrame(data={\"Actual Values\": y_test, \"Predicted Values\": dt_predictions})"
   ]
  },
  {
   "cell_type": "code",
   "execution_count": 37,
   "id": "1355ba9e",
   "metadata": {},
   "outputs": [
    {
     "data": {
      "text/html": [
       "<div>\n",
       "<style scoped>\n",
       "    .dataframe tbody tr th:only-of-type {\n",
       "        vertical-align: middle;\n",
       "    }\n",
       "\n",
       "    .dataframe tbody tr th {\n",
       "        vertical-align: top;\n",
       "    }\n",
       "\n",
       "    .dataframe thead th {\n",
       "        text-align: right;\n",
       "    }\n",
       "</style>\n",
       "<table border=\"1\" class=\"dataframe\">\n",
       "  <thead>\n",
       "    <tr style=\"text-align: right;\">\n",
       "      <th></th>\n",
       "      <th>Actual Values</th>\n",
       "      <th>Predicted Values</th>\n",
       "    </tr>\n",
       "  </thead>\n",
       "  <tbody>\n",
       "    <tr>\n",
       "      <th>37884</th>\n",
       "      <td>0.006545</td>\n",
       "      <td>0.006520</td>\n",
       "    </tr>\n",
       "    <tr>\n",
       "      <th>36633</th>\n",
       "      <td>0.003615</td>\n",
       "      <td>0.003590</td>\n",
       "    </tr>\n",
       "    <tr>\n",
       "      <th>30431</th>\n",
       "      <td>0.006230</td>\n",
       "      <td>0.005586</td>\n",
       "    </tr>\n",
       "    <tr>\n",
       "      <th>1550</th>\n",
       "      <td>0.008211</td>\n",
       "      <td>0.013262</td>\n",
       "    </tr>\n",
       "    <tr>\n",
       "      <th>18733</th>\n",
       "      <td>0.009220</td>\n",
       "      <td>0.006711</td>\n",
       "    </tr>\n",
       "  </tbody>\n",
       "</table>\n",
       "</div>"
      ],
      "text/plain": [
       "       Actual Values  Predicted Values\n",
       "37884       0.006545          0.006520\n",
       "36633       0.003615          0.003590\n",
       "30431       0.006230          0.005586\n",
       "1550        0.008211          0.013262\n",
       "18733       0.009220          0.006711"
      ]
     },
     "execution_count": 37,
     "metadata": {},
     "output_type": "execute_result"
    }
   ],
   "source": [
    "df_3.head()"
   ]
  },
  {
   "cell_type": "code",
   "execution_count": null,
   "id": "5b0016a0",
   "metadata": {},
   "outputs": [],
   "source": []
  },
  {
   "cell_type": "markdown",
   "id": "4289e719",
   "metadata": {},
   "source": [
    "## Data Visualization\n",
    "###### 1. Linear Regression Graph"
   ]
  },
  {
   "cell_type": "code",
   "execution_count": 38,
   "id": "cbeb85f8",
   "metadata": {},
   "outputs": [
    {
     "data": {
      "text/plain": [
       "<matplotlib.collections.PathCollection at 0x211b98d9f40>"
      ]
     },
     "execution_count": 38,
     "metadata": {},
     "output_type": "execute_result"
    },
    {
     "data": {
      "image/png": "[encoded data removed]",
      "text/plain": [
       "<Figure size 640x480 with 1 Axes>"
      ]
     },
     "metadata": {},
     "output_type": "display_data"
    }
   ],
   "source": [
    "plt.scatter(y_test, linear_predictions)"
   ]
  },
  {
   "cell_type": "markdown",
   "id": "e8cbdf60",
   "metadata": {},
   "source": [
    "###### 2. Random Forest Regression Graph"
   ]
  },
  {
   "cell_type": "code",
   "execution_count": 39,
   "id": "91904c44",
   "metadata": {
    "scrolled": true
   },
   "outputs": [
    {
     "data": {
      "text/plain": [
       "<matplotlib.collections.PathCollection at 0x211b9b2cc40>"
      ]
     },
     "execution_count": 39,
     "metadata": {},
     "output_type": "execute_result"
    },
    {
     "data": {
      "image/png": "[encoded data removed]",
      "text/plain": [
       "<Figure size 640x480 with 1 Axes>"
      ]
     },
     "metadata": {},
     "output_type": "display_data"
    }
   ],
   "source": [
    "plt.scatter(y_test, rf_predictions)"
   ]
  },
  {
   "cell_type": "markdown",
   "id": "24c8040d",
   "metadata": {},
   "source": [
    "###### 3. Decision Tree Regression"
   ]
  },
  {
   "cell_type": "code",
   "execution_count": 40,
   "id": "55031745",
   "metadata": {
    "scrolled": true
   },
   "outputs": [
    {
     "data": {
      "text/plain": [
       "<matplotlib.collections.PathCollection at 0x211b99a3e50>"
      ]
     },
     "execution_count": 40,
     "metadata": {},
     "output_type": "execute_result"
    },
    {
     "data": {
      "image/png": "[encoded data removed]",
      "text/plain": [
       "<Figure size 640x480 with 1 Axes>"
      ]
     },
     "metadata": {},
     "output_type": "display_data"
    }
   ],
   "source": [
    "plt.scatter(y_test, dt_predictions)"
   ]
  },
  {
   "cell_type": "markdown",
   "id": "bd927778",
   "metadata": {},
   "source": [
    "### Conclusion:\n",
    "##### The near to accurate model is the RandomForest Regression Model"
   ]
  }
 ],
 "metadata": {
  "kernelspec": {
   "display_name": "Python 3 (ipykernel)",
   "language": "python",
   "name": "python3"
  },
  "language_info": {
   "codemirror_mode": {
    "name": "ipython",
    "version": 3
   },
   "file_extension": ".py",
   "mimetype": "text/x-python",
   "name": "python",
   "nbconvert_exporter": "python",
   "pygments_lexer": "ipython3",
   "version": "3.9.13"
  }
 },
 "nbformat": 4,
 "nbformat_minor": 5
}
