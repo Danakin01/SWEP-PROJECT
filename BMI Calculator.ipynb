{
 "cells": [
  {
   "cell_type": "code",
   "execution_count": 1,
   "id": "5eae2e02",
   "metadata": {},
   "outputs": [
    {
     "name": "stdout",
     "output_type": "stream",
     "text": [
      "Enter your name: Daniel Akinwande\n",
      "Enter your height(m): 1.67\n",
      "Enter your weight(kg): 67\n",
      "Hello Daniel Akinwande, your Body Mass Index (BMI) is: 24.02!\n",
      "Your weight is normal.\n"
     ]
    }
   ],
   "source": [
    "name = str(input(\"Enter your name: \"))\n",
    "height = float(input(\"Enter your height(m): \"))\n",
    "weight = float(input(\"Enter your weight(kg): \"))\n",
    "BMI_value = round(weight / (height**2), 2)\n",
    "print(F\"Hello {name}, your Body Mass Index (BMI) is: {BMI_value}\" )\n",
    "if BMI_value <= 18.5:\n",
    "    print(\"You are underweight.\")\n",
    "elif 18.5 < BMI_value <= 24.9:\n",
    "        print(\"Your weight is normal.\")\n",
    "elif 24 < BMI_value <= 29.99:\n",
    "            print(\"You are overweight.\")\n",
    "else:\n",
    "                print(\"You are obese!\")"
   ]
  }
 ],
 "metadata": {
  "kernelspec": {
   "display_name": "Python 3 (ipykernel)",
   "language": "python",
   "name": "python3"
  },
  "language_info": {
   "codemirror_mode": {
    "name": "ipython",
    "version": 3
   },
   "file_extension": ".py",
   "mimetype": "text/x-python",
   "name": "python",
   "nbconvert_exporter": "python",
   "pygments_lexer": "ipython3",
   "version": "3.9.13"
  }
 },
 "nbformat": 4,
 "nbformat_minor": 5
}
